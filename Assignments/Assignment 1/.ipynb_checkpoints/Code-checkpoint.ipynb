{
 "cells": [
  {
   "cell_type": "code",
   "execution_count": 5,
   "id": "94d7ef23",
   "metadata": {},
   "outputs": [],
   "source": [
    "# Implementation of linear regression using libraries:- Split the dataset into 80:20 (train:test)"
   ]
  },
  {
   "cell_type": "code",
   "execution_count": null,
   "id": "ac738275",
   "metadata": {},
   "outputs": [],
   "source": []
  },
  {
   "cell_type": "code",
   "execution_count": 4,
   "id": "d62f2d17",
   "metadata": {},
   "outputs": [],
   "source": [
    "# (a) (2 marks) Visualize the dataset. Make scatter plots, pair plots, box plots, and correlation heatmap. \n",
    "# Distribution plots, i.e. histograms, pie charts etc. for categorical features. Give at least five insights on the dataset."
   ]
  },
  {
   "cell_type": "code",
   "execution_count": null,
   "id": "37da0cf9",
   "metadata": {},
   "outputs": [],
   "source": []
  },
  {
   "cell_type": "code",
   "execution_count": 3,
   "id": "02b215a8",
   "metadata": {},
   "outputs": [],
   "source": [
    "# (b) (2 marks) Use TSNE (t-distributed stochastic neighbour embedding) algorithm to\n",
    "# reduce data dimensions to 2 and plot the resulting data as a scatter plot. Comment\n",
    "# on the separability of the data."
   ]
  },
  {
   "cell_type": "code",
   "execution_count": null,
   "id": "a6983fb8",
   "metadata": {},
   "outputs": [],
   "source": []
  },
  {
   "cell_type": "code",
   "execution_count": null,
   "id": "9fc7e0df",
   "metadata": {},
   "outputs": [],
   "source": [
    "# (c) (2 marks) Perform the necessary preprocessing steps, and for categorical features use\n",
    "# label-based encoding. Perform linear regression on the preprocessed data. Report\n",
    "# MSE, RMSE, R2 score, Adjusted R2 score, MAE on the train and test data."
   ]
  },
  {
   "cell_type": "code",
   "execution_count": null,
   "id": "c1b07104",
   "metadata": {},
   "outputs": [],
   "source": []
  },
  {
   "cell_type": "code",
   "execution_count": 6,
   "id": "7b8340a8",
   "metadata": {},
   "outputs": [],
   "source": [
    "# (d) (2 marks) Use Principal Component Analysis (PCA) on the original dataset to\n",
    "# reduce the number of features and then train the model with the reduced feature\n",
    "# dataset. Vary the number of components, i.e. 4, 6, 8, 10 and compare the results\n",
    "# (MSE, RMSE, R2 score, Adjusted R2 score, MAE) on the train and test dataset."
   ]
  },
  {
   "cell_type": "code",
   "execution_count": null,
   "id": "69440b0d",
   "metadata": {},
   "outputs": [],
   "source": []
  },
  {
   "cell_type": "code",
   "execution_count": 7,
   "id": "83c2a470",
   "metadata": {},
   "outputs": [],
   "source": [
    "# (e) (2 marks) Encode the categorical features of the original dataset with one-hot encoding and perform \n",
    "# all tasks of part c again, i.e. apply linear regression and report MSE, RMSE etc. \n",
    "# Compare the results obtained with part c."
   ]
  },
  {
   "cell_type": "code",
   "execution_count": null,
   "id": "6a5b2d0e",
   "metadata": {},
   "outputs": [],
   "source": []
  }
 ],
 "metadata": {
  "kernelspec": {
   "display_name": "Python 3 (ipykernel)",
   "language": "python",
   "name": "python3"
  },
  "language_info": {
   "codemirror_mode": {
    "name": "ipython",
    "version": 3
   },
   "file_extension": ".py",
   "mimetype": "text/x-python",
   "name": "python",
   "nbconvert_exporter": "python",
   "pygments_lexer": "ipython3",
   "version": "3.9.12"
  }
 },
 "nbformat": 4,
 "nbformat_minor": 5
}
