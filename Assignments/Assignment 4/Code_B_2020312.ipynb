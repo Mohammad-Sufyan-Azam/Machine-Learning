{
  "cells": [
    {
      "cell_type": "markdown",
      "metadata": {
        "id": "AJrPYuvPwx36"
      },
      "source": [
        "# Implementing CNN Functions From Scratch"
      ]
    },
    {
      "cell_type": "markdown",
      "metadata": {
        "id": "d-wM3kTPxFzd"
      },
      "source": [
        " * Convolution Function: Develop forward and backward passes, encompassing windowing and zero-padding with parameters [3,3,3,3] <br>\n",
        " * Pooling Functions: Design a pooling process involving mask creation, value distribution, and both forward and backward pooling with [2,3,3,2]"
      ]
    },
    {
      "cell_type": "markdown",
      "metadata": {
        "id": "8VW29am7w-Cb"
      },
      "source": [
        "## Importing the libraries"
      ]
    },
    {
      "cell_type": "code",
      "execution_count": 1,
      "metadata": {
        "id": "Gs8d6nCTwj-A"
      },
      "outputs": [],
      "source": [
        "import numpy as np\n",
        "import matplotlib.pyplot as plt\n",
        "import pandas as pd\n",
        "import seaborn as sns"
      ]
    },
    {
      "cell_type": "code",
      "execution_count": null,
      "metadata": {
        "id": "Q8U5HQAixEZb"
      },
      "outputs": [],
      "source": [
        "# from google.colab import drive\n",
        "# drive.mount('/content/gdrive', force_remount=True)\n",
        "# %cd /content/gdrive/MyDrive"
      ]
    },
    {
      "cell_type": "markdown",
      "metadata": {
        "id": "DEwIyHifqPbu"
      },
      "source": [
        "## Convolution Functions"
      ]
    },
    {
      "cell_type": "code",
      "execution_count": 111,
      "metadata": {
        "id": "YzCarMaxZpB8"
      },
      "outputs": [],
      "source": [
        "# image is a 4D numpy array which represents batch, image_height, image_width, channels respectively\n",
        "# kernel is also a 4D numpy array which represents (height, width, input_channels, output_channels)\n",
        "\n",
        "def window(image, b, i, j, kh, kw):\n",
        "    new_height = i + kh\n",
        "    new_width = j + kw\n",
        "    return image[b, i : new_height, j : new_width, :]\n",
        "\n",
        "\n",
        "def zero_padding(X, pad):\n",
        "    X_pad = np.pad(X, ((0, 0), (pad, pad), (pad, pad), (0, 0)), 'constant', constant_values=0)\n",
        "    return X_pad\n",
        "\n",
        "\n",
        "def convolution_forward(image, kernel):\n",
        "    batch_size, input_height, input_width, input_channels = image.shape\n",
        "    kernel_height, kernel_width, _, output_channels = kernel.shape\n",
        "\n",
        "    # iterates over each position of the image using for loops and convolves it\n",
        "    result = np.zeros((batch_size, input_height - kernel_height + 1, input_width - kernel_width + 1, output_channels))\n",
        "    for b in range(batch_size):\n",
        "        for i in range(input_height - kernel_height + 1):\n",
        "            for j in range(input_width - kernel_width + 1):\n",
        "                for k in range(output_channels):\n",
        "                    # calculating the image window\n",
        "                    image_window = window(image, b, i, j, kernel_height, kernel_width)\n",
        "                    result[b, i, j, k] = np.sum(image_window * kernel[:, :, :, k])\n",
        "\n",
        "    return result\n",
        "\n",
        "\n",
        "def convolution_backward(doutput, image, kernel):\n",
        "    batch_size, input_height, input_width, input_channels = image.shape\n",
        "    kernel_height, kernel_width, _, output_channels = kernel.shape\n",
        "\n",
        "    # dimage is the gradient of the loss with respect to the input image\n",
        "    dimage = np.zeros_like(image)\n",
        "    dkernel = np.zeros_like(kernel)\n",
        "\n",
        "    # iterating over each pixel position\n",
        "    for b in range(batch_size):\n",
        "        for i in range(input_height - kernel_height + 1):\n",
        "            for j in range(input_width - kernel_width + 1):\n",
        "                for k in range(output_channels):\n",
        "                    dimage[b, i:i+kernel_height, j:j+kernel_width, :] += doutput[b, i, j, k] * kernel[:, :, :, k]\n",
        "                    dkernel[:, :, :, k] += doutput[b, i, j, k] * window(image, b, i, j, kernel_height, kernel_width)\n",
        "\n",
        "    return dimage, dkernel"
      ]
    },
    {
      "cell_type": "markdown",
      "metadata": {
        "id": "9-OGtL5uqVrE"
      },
      "source": [
        "## Pooling Functions"
      ]
    },
    {
      "cell_type": "code",
      "execution_count": 52,
      "metadata": {
        "id": "TaOC9kMzlOpI"
      },
      "outputs": [],
      "source": []
    },
    {
      "cell_type": "code",
      "execution_count": 75,
      "metadata": {
        "id": "tIWOt5jE-VEp"
      },
      "outputs": [],
      "source": [
        "def pool_forward(A_prev, hparameters, mode = \"max\"):\n",
        "    # Implements the forward pass of the pooling layer\n",
        "    (m, n_H_prev, n_W_prev, n_C_prev) = A_prev.shape\n",
        "    f = hparameters[\"f\"]\n",
        "    stride = hparameters[\"stride\"]\n",
        "    n_H = int(1 + (n_H_prev - f) / stride)\n",
        "    n_W = int(1 + (n_W_prev - f) / stride)\n",
        "    n_C = n_C_prev\n",
        "    A = np.zeros((m, n_H, n_W, n_C))\n",
        "    for i in range(m):\n",
        "        for h in range(n_H):\n",
        "            for w in range(n_W):\n",
        "                for c in range (n_C):\n",
        "                    vert_start = h * stride\n",
        "                    vert_end = vert_start + f\n",
        "                    horiz_start = w * stride\n",
        "                    horiz_end = horiz_start + f\n",
        "                    a_prev_slice = A_prev[i, vert_start:vert_end, horiz_start:horiz_end,c]\n",
        "                    if mode == \"max\":\n",
        "                        A[i, h, w, c] = np.max(a_prev_slice)\n",
        "                    elif mode == \"average\":\n",
        "                        A[i, h, w, c] = np.mean(a_prev_slice)\n",
        "    cache = (A_prev, hparameters)\n",
        "    return A, cache\n",
        "\n",
        "def create_mask_from_window(x):\n",
        "    # Creates a mask from an input matrix x, to identify the max entry of x.\n",
        "    mask = x == np.max(x)\n",
        "    return mask\n",
        "\n",
        "def distribute_value(dz, shape):\n",
        "    # Distributes the input value in the matrix of dimension shape\n",
        "    (n_H, n_W) = shape\n",
        "    average = dz / (n_H * n_W)\n",
        "    a = np.ones(shape) * average\n",
        "    return a\n",
        "\n",
        "def pool_backward(dA, cache, mode = \"max\"):\n",
        "    # Implements the backward pass of the pooling layer\n",
        "    (A_prev, hparameters) = cache\n",
        "    stride = hparameters[\"stride\"]\n",
        "    f = hparameters[\"f\"]\n",
        "    m, n_H_prev, n_W_prev, n_C_prev = A_prev.shape\n",
        "    m, n_H, n_W, n_C = dA.shape\n",
        "    dA_prev = np.zeros(A_prev.shape)\n",
        "    for i in range(m):\n",
        "        a_prev = A_prev[i]\n",
        "        for h in range(n_H):\n",
        "            for w in range(n_W):\n",
        "                for c in range(n_C):\n",
        "                    vert_start = h\n",
        "                    vert_end = vert_start + f\n",
        "                    horiz_start = w\n",
        "                    horiz_end = horiz_start + f\n",
        "                    if mode == \"max\":\n",
        "                        a_prev_slice = a_prev[vert_start:vert_end, horiz_start:horiz_end, c]\n",
        "                        mask = create_mask_from_window(a_prev_slice)\n",
        "                        dA_prev[i, vert_start:vert_end, horiz_start:horiz_end, c] += np.multiply(mask, dA[i, h, w, c])\n",
        "                    elif mode == \"average\":\n",
        "                        da = dA[i, h, w, c]\n",
        "                        shape = (f, f)\n",
        "                        dA_prev[i, vert_start:vert_end, horiz_start:horiz_end, c] += distribute_value(da, shape)\n",
        "    return dA_prev"
      ]
    },
    {
      "cell_type": "markdown",
      "metadata": {
        "id": "sqp1yU00qX4O"
      },
      "source": [
        "## Testing the functions"
      ]
    },
    {
      "cell_type": "code",
      "execution_count": 114,
      "metadata": {
        "id": "cXfwKPMZ0kAb"
      },
      "outputs": [],
      "source": [
        "def plot_figures(fig_dict, fig_size=(10, 15)):\n",
        "    # the figure will be a dictionary consisting of the title and the image\n",
        "    fig, axarr = plt.subplots(1, len(fig_dict), figsize=fig_size)\n",
        "    i = 0\n",
        "    for title, image in fig_dict.items():\n",
        "        axarr[i].set_title(title)\n",
        "        axarr[i].imshow(image)\n",
        "        i += 1\n",
        "    plt.tight_layout()\n",
        "    plt.show()"
      ]
    },
    {
      "cell_type": "code",
      "execution_count": 115,
      "metadata": {
        "colab": {
          "base_uri": "https://localhost:8080/",
          "height": 202
        },
        "id": "vROOIG_JZr1w",
        "outputId": "24c0d54e-831a-418a-b5ca-55da260758fe"
      },
      "outputs": [
        {
          "data": {
            "image/png": "[encoded data removed]",
            "text/plain": [
              "<Figure size 1000x1500 with 6 Axes>"
            ]
          },
          "metadata": {},
          "output_type": "display_data"
        }
      ],
      "source": [
        "# np.random.seed(1)\n",
        "image = np.random.rand(2, 5, 5, 3)  # Batch of 2 images with size 5x5 and 3 channels\n",
        "kernel = np.random.rand(3, 3, 3, 3)  # Convolution kernel with size 3x3 and 3 input/output channels\n",
        "image_padded = zero_padding(image, 2)\n",
        "\n",
        "# Convolution forward pass\n",
        "conv_result = convolution_forward(image_padded, kernel)\n",
        "\n",
        "# # Convolution backward pass\n",
        "doutput = np.random.rand(*conv_result.shape)  # Gradient of the loss with respect to the output of the convolution layer\n",
        "dimage, dkernel = convolution_backward(doutput, image, kernel)\n",
        "\n",
        "# Max pooling forward pass\n",
        "pool_result, mask = pool_forward(dimage, {\"stride\" : 2, \"f\": 1})\n",
        "\n",
        "# Max pooling backward pass\n",
        "pool_result_back = pool_backward(pool_result, mask)\n",
        "\n",
        "fig_dict = {'image': image[0,:,:,0],\n",
        "            'padding': image_padded[0,:,:,0],\n",
        "            'conv_fwd': conv_result[0,:,:,0],\n",
        "            'conv_back': dimage[0,:,:,0],\n",
        "            'pool_fwd': pool_result[0,:,:,0],\n",
        "            'pool_back': pool_result_back[0,:,:,0]}\n",
        "plot_figures(fig_dict)"
      ]
    },
    {
      "cell_type": "markdown",
      "metadata": {
        "id": "4ps0_ehQwtCM"
      },
      "source": [
        "## MNIST Dataset"
      ]
    },
    {
      "cell_type": "code",
      "execution_count": 96,
      "metadata": {
        "colab": {
          "base_uri": "https://localhost:8080/"
        },
        "id": "pAjA6u-fsSSb",
        "outputId": "58d8ae1c-58dd-4c4c-f5eb-615b24694833"
      },
      "outputs": [
        {
          "name": "stdout",
          "output_type": "stream",
          "text": [
            "(60000, 28, 28)\n",
            "(60000,)\n",
            "(10000, 28, 28)\n",
            "(10000,)\n",
            "(75, 28, 28)\n",
            "(25, 28, 28, 3)\n",
            "(60000, 28, 28, 1)\n",
            "(10000, 28, 28, 1)\n",
            "(5, 28, 28, 1)\n"
          ]
        }
      ],
      "source": [
        "from tensorflow.keras.datasets import mnist\n",
        "from tensorflow.keras.models import Sequential\n",
        "\n",
        "# Loading the MNIST data\n",
        "(x_train, y_train), (x_test, y_test) = mnist.load_data()\n",
        "print(x_train.shape)\n",
        "print(y_train.shape)\n",
        "print(x_test.shape)\n",
        "print(y_test.shape)\n",
        "\n",
        "image = x_train[:75]\n",
        "print(image.shape)\n",
        "image = image.reshape(image.shape[0]//3, 28, 28, 3).astype('float32')\n",
        "print(image.shape)\n",
        "\n",
        "\n",
        "# Reshaping the images to 4D array\n",
        "x_train = x_train.reshape(x_train.shape[0], 28, 28, 1).astype('float32')\n",
        "x_test = x_test.reshape(x_test.shape[0], 28, 28, 1).astype('float32')\n",
        "print(x_train.shape)\n",
        "print(x_test.shape)\n",
        "\n",
        "temp = x_train[:5]\n",
        "# image = temp\n",
        "print(temp.shape)"
      ]
    },
    {
      "cell_type": "code",
      "execution_count": 98,
      "metadata": {
        "colab": {
          "base_uri": "https://localhost:8080/",
          "height": 302
        },
        "id": "iQdF_eXws5N0",
        "outputId": "395f29d3-a336-4bf9-d22e-316b796b9ca3"
      },
      "outputs": [
        {
          "name": "stdout",
          "output_type": "stream",
          "text": [
            "(25, 32, 32, 3)\n",
            "(25, 30, 30, 3)\n"
          ]
        },
        {
          "data": {
            "image/png": "[encoded data removed]",
            "text/plain": [
              "<Figure size 2000x2500 with 6 Axes>"
            ]
          },
          "metadata": {},
          "output_type": "display_data"
        }
      ],
      "source": [
        "kernel = np.random.rand(3, 3, 3, 3)  # Convolution kernel with size 3x3 and 3 input/output channels\n",
        "image_padded = zero_pad(image, 2)\n",
        "print(image_padded.shape)\n",
        "# Convolution forward pass\n",
        "conv_result = convolution_forward(image_padded, kernel)\n",
        "print(conv_result.shape)\n",
        "# # Convolution backward pass\n",
        "doutput = np.random.rand(*conv_result.shape)  # Gradient of the loss with respect to the output of the convolution layer\n",
        "dimage, dkernel = convolution_backward(doutput, image, kernel)\n",
        "\n",
        "# Max pooling forward pass\n",
        "pool_result, mask = pool_forward(dimage, {\"stride\" : 2, \"f\": 1})\n",
        "\n",
        "\n",
        "# Max pooling backward pass\n",
        "pool_result_back = pool_backward(pool_result, mask)\n",
        "\n",
        "fig, axarr = plt.subplots(1, 6, figsize=(20, 25))\n",
        "axarr[0].set_title('image')\n",
        "axarr[0].imshow(image[0,:,:,0])\n",
        "axarr[1].set_title('padding')\n",
        "axarr[1].imshow(image_padded[0,:,:,0])\n",
        "axarr[2].set_title('conv_fwd')\n",
        "axarr[2].imshow(conv_result[0,:,:,0])\n",
        "axarr[3].set_title('conv_back')\n",
        "axarr[3].imshow(dimage[0,:,:,0])\n",
        "axarr[4].set_title('pool_fwd')\n",
        "axarr[4].imshow(pool_result[0,:,:,0])\n",
        "axarr[5].set_title('pool_back')\n",
        "axarr[5].imshow(pool_result_back[0,:,:,0])\n",
        "plt.tight_layout()\n",
        "plt.show()"
      ]
    }
  ],
  "metadata": {
    "colab": {
      "provenance": []
    },
    "kernelspec": {
      "display_name": "Python 3",
      "name": "python3"
    },
    "language_info": {
      "name": "python"
    }
  },
  "nbformat": 4,
  "nbformat_minor": 0
}
